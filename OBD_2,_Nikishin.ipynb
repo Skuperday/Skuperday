{
  "nbformat": 4,
  "nbformat_minor": 0,
  "metadata": {
    "colab": {
      "provenance": [],
      "include_colab_link": true
    },
    "kernelspec": {
      "name": "python3",
      "display_name": "Python 3"
    },
    "language_info": {
      "name": "python"
    }
  },
  "cells": [
    {
      "cell_type": "markdown",
      "metadata": {
        "id": "view-in-github",
        "colab_type": "text"
      },
      "source": [
        "<a href=\"https://colab.research.google.com/github/Skuperday/Skuperday/blob/main/OBD_2%2C_Nikishin.ipynb\" target=\"_parent\"><img src=\"https://colab.research.google.com/assets/colab-badge.svg\" alt=\"Open In Colab\"/></a>"
      ]
    },
    {
      "cell_type": "markdown",
      "source": [],
      "metadata": {
        "id": "xQZSV5L-1F20"
      }
    },
    {
      "cell_type": "markdown",
      "source": [
        "### **--- Задание №1 ---**"
      ],
      "metadata": {
        "id": "RRqzkGn5izKn"
      }
    },
    {
      "cell_type": "code",
      "source": [
        "import numpy as np\n",
        "import pandas as pd\n",
        "\n",
        "train_df = pd.read_csv(\"/content/drive/MyDrive/obd_data/05-7_task-files-1/09_Energy_and_Water_Data_Disclosure.csv\",\n",
        "                       index_col = 'Order')"
      ],
      "metadata": {
        "id": "wue91cFvi3oo"
      },
      "execution_count": null,
      "outputs": []
    },
    {
      "cell_type": "code",
      "source": [
        "train_df.head()"
      ],
      "metadata": {
        "colab": {
          "base_uri": "https://localhost:8080/",
          "height": 678
        },
        "id": "gvSMyhOlkCGp",
        "outputId": "d2ff1505-b671-4f7c-b8d3-a4295ec4c634"
      },
      "execution_count": null,
      "outputs": [
        {
          "output_type": "execute_result",
          "data": {
            "text/plain": [
              "       Property Id                                 Property Name  \\\n",
              "Order                                                              \n",
              "1            13286                                       201/205   \n",
              "2            28400                    NYP Columbia (West Campus)   \n",
              "3          4778226                                 MSCHoNY North   \n",
              "4          4778267  Herbert Irving Pavilion & Millstein Hospital   \n",
              "5          4778288                               Neuro Institute   \n",
              "\n",
              "      Parent Property Id        Parent Property Name BBL - 10 digits  \\\n",
              "Order                                                                  \n",
              "1                  13286                     201/205      1013160001   \n",
              "2                  28400  NYP Columbia (West Campus)      1021380040   \n",
              "3                  28400  NYP Columbia (West Campus)      1021380030   \n",
              "4                  28400  NYP Columbia (West Campus)      1021390001   \n",
              "5                  28400  NYP Columbia (West Campus)      1021390085   \n",
              "\n",
              "      NYC Borough, Block and Lot (BBL) self-reported  \\\n",
              "Order                                                  \n",
              "1                                         1013160001   \n",
              "2                                       1-02138-0040   \n",
              "3                                       1-02138-0030   \n",
              "4                                       1-02139-0001   \n",
              "5                                       1-02139-0085   \n",
              "\n",
              "                NYC Building Identification Number (BIN)  \\\n",
              "Order                                                      \n",
              "1                                                1037549   \n",
              "2      1084198; 1084387;1084385; 1084386; 1084388; 10...   \n",
              "3                                                1063380   \n",
              "4                                       1087281; 1076746   \n",
              "5                                                1063403   \n",
              "\n",
              "      Address 1 (self-reported)                Address 2 Postal Code  ...  \\\n",
              "Order                                                                 ...   \n",
              "1      201/205  East  42nd  st.            Not Available       10017  ...   \n",
              "2              622 168th Street            Not Available       10032  ...   \n",
              "3                 3975 Broadway            Not Available       10032  ...   \n",
              "4       161 Fort Washington Ave  177 Fort Washington Ave       10032  ...   \n",
              "5         710 West 168th Street            Not Available       10032  ...   \n",
              "\n",
              "      Source EUI (kBtu/ft²)            Release Date Water Required?  \\\n",
              "Order                                                                 \n",
              "1                     619.4  05/01/2017 05:32:03 PM              No   \n",
              "2                     404.3  04/27/2017 11:23:27 AM              No   \n",
              "3             Not Available  04/27/2017 11:23:27 AM              No   \n",
              "4             Not Available  04/27/2017 11:23:27 AM              No   \n",
              "5             Not Available  04/27/2017 11:23:27 AM              No   \n",
              "\n",
              "       DOF Benchmarking Submission Status   Latitude  Longitude  \\\n",
              "Order                                                             \n",
              "1                           In Compliance  40.750791 -73.973963   \n",
              "2                           In Compliance  40.841402 -73.942568   \n",
              "3                           In Compliance  40.840427 -73.940249   \n",
              "4                           In Compliance  40.840746 -73.942854   \n",
              "5                           In Compliance  40.841559 -73.942528   \n",
              "\n",
              "      Community Board Council District Census Tract  \\\n",
              "Order                                                 \n",
              "1                 6.0              4.0         88.0   \n",
              "2                12.0             10.0        251.0   \n",
              "3                12.0             10.0        251.0   \n",
              "4                12.0             10.0        255.0   \n",
              "5                12.0             10.0        255.0   \n",
              "\n",
              "                                                     NTA  \n",
              "Order                                                     \n",
              "1      Turtle Bay-East Midtown                       ...  \n",
              "2      Washington Heights South                      ...  \n",
              "3      Washington Heights South                      ...  \n",
              "4      Washington Heights South                      ...  \n",
              "5      Washington Heights South                      ...  \n",
              "\n",
              "[5 rows x 59 columns]"
            ],
            "text/html": [
              "\n",
              "  <div id=\"df-bec2a126-6e31-4baf-b0e4-de25adefad17\">\n",
              "    <div class=\"colab-df-container\">\n",
              "      <div>\n",
              "<style scoped>\n",
              "    .dataframe tbody tr th:only-of-type {\n",
              "        vertical-align: middle;\n",
              "    }\n",
              "\n",
              "    .dataframe tbody tr th {\n",
              "        vertical-align: top;\n",
              "    }\n",
              "\n",
              "    .dataframe thead th {\n",
              "        text-align: right;\n",
              "    }\n",
              "</style>\n",
              "<table border=\"1\" class=\"dataframe\">\n",
              "  <thead>\n",
              "    <tr style=\"text-align: right;\">\n",
              "      <th></th>\n",
              "      <th>Property Id</th>\n",
              "      <th>Property Name</th>\n",
              "      <th>Parent Property Id</th>\n",
              "      <th>Parent Property Name</th>\n",
              "      <th>BBL - 10 digits</th>\n",
              "      <th>NYC Borough, Block and Lot (BBL) self-reported</th>\n",
              "      <th>NYC Building Identification Number (BIN)</th>\n",
              "      <th>Address 1 (self-reported)</th>\n",
              "      <th>Address 2</th>\n",
              "      <th>Postal Code</th>\n",
              "      <th>...</th>\n",
              "      <th>Source EUI (kBtu/ft²)</th>\n",
              "      <th>Release Date</th>\n",
              "      <th>Water Required?</th>\n",
              "      <th>DOF Benchmarking Submission Status</th>\n",
              "      <th>Latitude</th>\n",
              "      <th>Longitude</th>\n",
              "      <th>Community Board</th>\n",
              "      <th>Council District</th>\n",
              "      <th>Census Tract</th>\n",
              "      <th>NTA</th>\n",
              "    </tr>\n",
              "    <tr>\n",
              "      <th>Order</th>\n",
              "      <th></th>\n",
              "      <th></th>\n",
              "      <th></th>\n",
              "      <th></th>\n",
              "      <th></th>\n",
              "      <th></th>\n",
              "      <th></th>\n",
              "      <th></th>\n",
              "      <th></th>\n",
              "      <th></th>\n",
              "      <th></th>\n",
              "      <th></th>\n",
              "      <th></th>\n",
              "      <th></th>\n",
              "      <th></th>\n",
              "      <th></th>\n",
              "      <th></th>\n",
              "      <th></th>\n",
              "      <th></th>\n",
              "      <th></th>\n",
              "      <th></th>\n",
              "    </tr>\n",
              "  </thead>\n",
              "  <tbody>\n",
              "    <tr>\n",
              "      <th>1</th>\n",
              "      <td>13286</td>\n",
              "      <td>201/205</td>\n",
              "      <td>13286</td>\n",
              "      <td>201/205</td>\n",
              "      <td>1013160001</td>\n",
              "      <td>1013160001</td>\n",
              "      <td>1037549</td>\n",
              "      <td>201/205  East  42nd  st.</td>\n",
              "      <td>Not Available</td>\n",
              "      <td>10017</td>\n",
              "      <td>...</td>\n",
              "      <td>619.4</td>\n",
              "      <td>05/01/2017 05:32:03 PM</td>\n",
              "      <td>No</td>\n",
              "      <td>In Compliance</td>\n",
              "      <td>40.750791</td>\n",
              "      <td>-73.973963</td>\n",
              "      <td>6.0</td>\n",
              "      <td>4.0</td>\n",
              "      <td>88.0</td>\n",
              "      <td>Turtle Bay-East Midtown                       ...</td>\n",
              "    </tr>\n",
              "    <tr>\n",
              "      <th>2</th>\n",
              "      <td>28400</td>\n",
              "      <td>NYP Columbia (West Campus)</td>\n",
              "      <td>28400</td>\n",
              "      <td>NYP Columbia (West Campus)</td>\n",
              "      <td>1021380040</td>\n",
              "      <td>1-02138-0040</td>\n",
              "      <td>1084198; 1084387;1084385; 1084386; 1084388; 10...</td>\n",
              "      <td>622 168th Street</td>\n",
              "      <td>Not Available</td>\n",
              "      <td>10032</td>\n",
              "      <td>...</td>\n",
              "      <td>404.3</td>\n",
              "      <td>04/27/2017 11:23:27 AM</td>\n",
              "      <td>No</td>\n",
              "      <td>In Compliance</td>\n",
              "      <td>40.841402</td>\n",
              "      <td>-73.942568</td>\n",
              "      <td>12.0</td>\n",
              "      <td>10.0</td>\n",
              "      <td>251.0</td>\n",
              "      <td>Washington Heights South                      ...</td>\n",
              "    </tr>\n",
              "    <tr>\n",
              "      <th>3</th>\n",
              "      <td>4778226</td>\n",
              "      <td>MSCHoNY North</td>\n",
              "      <td>28400</td>\n",
              "      <td>NYP Columbia (West Campus)</td>\n",
              "      <td>1021380030</td>\n",
              "      <td>1-02138-0030</td>\n",
              "      <td>1063380</td>\n",
              "      <td>3975 Broadway</td>\n",
              "      <td>Not Available</td>\n",
              "      <td>10032</td>\n",
              "      <td>...</td>\n",
              "      <td>Not Available</td>\n",
              "      <td>04/27/2017 11:23:27 AM</td>\n",
              "      <td>No</td>\n",
              "      <td>In Compliance</td>\n",
              "      <td>40.840427</td>\n",
              "      <td>-73.940249</td>\n",
              "      <td>12.0</td>\n",
              "      <td>10.0</td>\n",
              "      <td>251.0</td>\n",
              "      <td>Washington Heights South                      ...</td>\n",
              "    </tr>\n",
              "    <tr>\n",
              "      <th>4</th>\n",
              "      <td>4778267</td>\n",
              "      <td>Herbert Irving Pavilion &amp; Millstein Hospital</td>\n",
              "      <td>28400</td>\n",
              "      <td>NYP Columbia (West Campus)</td>\n",
              "      <td>1021390001</td>\n",
              "      <td>1-02139-0001</td>\n",
              "      <td>1087281; 1076746</td>\n",
              "      <td>161 Fort Washington Ave</td>\n",
              "      <td>177 Fort Washington Ave</td>\n",
              "      <td>10032</td>\n",
              "      <td>...</td>\n",
              "      <td>Not Available</td>\n",
              "      <td>04/27/2017 11:23:27 AM</td>\n",
              "      <td>No</td>\n",
              "      <td>In Compliance</td>\n",
              "      <td>40.840746</td>\n",
              "      <td>-73.942854</td>\n",
              "      <td>12.0</td>\n",
              "      <td>10.0</td>\n",
              "      <td>255.0</td>\n",
              "      <td>Washington Heights South                      ...</td>\n",
              "    </tr>\n",
              "    <tr>\n",
              "      <th>5</th>\n",
              "      <td>4778288</td>\n",
              "      <td>Neuro Institute</td>\n",
              "      <td>28400</td>\n",
              "      <td>NYP Columbia (West Campus)</td>\n",
              "      <td>1021390085</td>\n",
              "      <td>1-02139-0085</td>\n",
              "      <td>1063403</td>\n",
              "      <td>710 West 168th Street</td>\n",
              "      <td>Not Available</td>\n",
              "      <td>10032</td>\n",
              "      <td>...</td>\n",
              "      <td>Not Available</td>\n",
              "      <td>04/27/2017 11:23:27 AM</td>\n",
              "      <td>No</td>\n",
              "      <td>In Compliance</td>\n",
              "      <td>40.841559</td>\n",
              "      <td>-73.942528</td>\n",
              "      <td>12.0</td>\n",
              "      <td>10.0</td>\n",
              "      <td>255.0</td>\n",
              "      <td>Washington Heights South                      ...</td>\n",
              "    </tr>\n",
              "  </tbody>\n",
              "</table>\n",
              "<p>5 rows × 59 columns</p>\n",
              "</div>\n",
              "      <button class=\"colab-df-convert\" onclick=\"convertToInteractive('df-bec2a126-6e31-4baf-b0e4-de25adefad17')\"\n",
              "              title=\"Convert this dataframe to an interactive table.\"\n",
              "              style=\"display:none;\">\n",
              "        \n",
              "  <svg xmlns=\"http://www.w3.org/2000/svg\" height=\"24px\"viewBox=\"0 0 24 24\"\n",
              "       width=\"24px\">\n",
              "    <path d=\"M0 0h24v24H0V0z\" fill=\"none\"/>\n",
              "    <path d=\"M18.56 5.44l.94 2.06.94-2.06 2.06-.94-2.06-.94-.94-2.06-.94 2.06-2.06.94zm-11 1L8.5 8.5l.94-2.06 2.06-.94-2.06-.94L8.5 2.5l-.94 2.06-2.06.94zm10 10l.94 2.06.94-2.06 2.06-.94-2.06-.94-.94-2.06-.94 2.06-2.06.94z\"/><path d=\"M17.41 7.96l-1.37-1.37c-.4-.4-.92-.59-1.43-.59-.52 0-1.04.2-1.43.59L10.3 9.45l-7.72 7.72c-.78.78-.78 2.05 0 2.83L4 21.41c.39.39.9.59 1.41.59.51 0 1.02-.2 1.41-.59l7.78-7.78 2.81-2.81c.8-.78.8-2.07 0-2.86zM5.41 20L4 18.59l7.72-7.72 1.47 1.35L5.41 20z\"/>\n",
              "  </svg>\n",
              "      </button>\n",
              "      \n",
              "  <style>\n",
              "    .colab-df-container {\n",
              "      display:flex;\n",
              "      flex-wrap:wrap;\n",
              "      gap: 12px;\n",
              "    }\n",
              "\n",
              "    .colab-df-convert {\n",
              "      background-color: #E8F0FE;\n",
              "      border: none;\n",
              "      border-radius: 50%;\n",
              "      cursor: pointer;\n",
              "      display: none;\n",
              "      fill: #1967D2;\n",
              "      height: 32px;\n",
              "      padding: 0 0 0 0;\n",
              "      width: 32px;\n",
              "    }\n",
              "\n",
              "    .colab-df-convert:hover {\n",
              "      background-color: #E2EBFA;\n",
              "      box-shadow: 0px 1px 2px rgba(60, 64, 67, 0.3), 0px 1px 3px 1px rgba(60, 64, 67, 0.15);\n",
              "      fill: #174EA6;\n",
              "    }\n",
              "\n",
              "    [theme=dark] .colab-df-convert {\n",
              "      background-color: #3B4455;\n",
              "      fill: #D2E3FC;\n",
              "    }\n",
              "\n",
              "    [theme=dark] .colab-df-convert:hover {\n",
              "      background-color: #434B5C;\n",
              "      box-shadow: 0px 1px 3px 1px rgba(0, 0, 0, 0.15);\n",
              "      filter: drop-shadow(0px 1px 2px rgba(0, 0, 0, 0.3));\n",
              "      fill: #FFFFFF;\n",
              "    }\n",
              "  </style>\n",
              "\n",
              "      <script>\n",
              "        const buttonEl =\n",
              "          document.querySelector('#df-bec2a126-6e31-4baf-b0e4-de25adefad17 button.colab-df-convert');\n",
              "        buttonEl.style.display =\n",
              "          google.colab.kernel.accessAllowed ? 'block' : 'none';\n",
              "\n",
              "        async function convertToInteractive(key) {\n",
              "          const element = document.querySelector('#df-bec2a126-6e31-4baf-b0e4-de25adefad17');\n",
              "          const dataTable =\n",
              "            await google.colab.kernel.invokeFunction('convertToInteractive',\n",
              "                                                     [key], {});\n",
              "          if (!dataTable) return;\n",
              "\n",
              "          const docLinkHtml = 'Like what you see? Visit the ' +\n",
              "            '<a target=\"_blank\" href=https://colab.research.google.com/notebooks/data_table.ipynb>data table notebook</a>'\n",
              "            + ' to learn more about interactive tables.';\n",
              "          element.innerHTML = '';\n",
              "          dataTable['output_type'] = 'display_data';\n",
              "          await google.colab.output.renderOutput(dataTable, element);\n",
              "          const docLink = document.createElement('div');\n",
              "          docLink.innerHTML = docLinkHtml;\n",
              "          element.appendChild(docLink);\n",
              "        }\n",
              "      </script>\n",
              "    </div>\n",
              "  </div>\n",
              "  "
            ]
          },
          "metadata": {},
          "execution_count": 22
        }
      ]
    },
    {
      "cell_type": "code",
      "source": [
        "nulls = train_df.columns[train_df.isnull().any()]\n",
        "print(\"Null колонки:\")\n",
        "print(nulls)"
      ],
      "metadata": {
        "colab": {
          "base_uri": "https://localhost:8080/"
        },
        "id": "V4b8bgmZkboW",
        "outputId": "869b197b-e843-4726-a010-7c7c26c19bc4"
      },
      "execution_count": null,
      "outputs": [
        {
          "output_type": "stream",
          "name": "stdout",
          "text": [
            "Null колонки:\n",
            "Index(['BBL - 10 digits', 'Street Number', 'Street Name', 'Borough',\n",
            "       'DOF Gross Floor Area', 'Water Required?',\n",
            "       'DOF Benchmarking Submission Status', 'Latitude', 'Longitude',\n",
            "       'Community Board', 'Council District', 'Census Tract', 'NTA'],\n",
            "      dtype='object')\n"
          ]
        }
      ]
    },
    {
      "cell_type": "code",
      "source": [
        "from sklearn.model_selection import train_test_split"
      ],
      "metadata": {
        "id": "RarAR07gs-r_"
      },
      "execution_count": null,
      "outputs": []
    },
    {
      "cell_type": "code",
      "source": [
        "train_df, test_df = train_test_split(train_df, random_state=54, train_size=0.7)\n",
        "print(train_df.values.shape[0])\n",
        "\n",
        "test_df.values.shape[0]"
      ],
      "metadata": {
        "colab": {
          "base_uri": "https://localhost:8080/"
        },
        "id": "E7sg2xZHtIwF",
        "outputId": "14057aab-88c7-4557-c8a9-4d69f4585f0a"
      },
      "execution_count": null,
      "outputs": [
        {
          "output_type": "stream",
          "name": "stdout",
          "text": [
            "8222\n"
          ]
        },
        {
          "output_type": "execute_result",
          "data": {
            "text/plain": [
              "3524"
            ]
          },
          "metadata": {},
          "execution_count": 25
        }
      ]
    },
    {
      "cell_type": "markdown",
      "source": [
        "### **--- Задание №2 ---**"
      ],
      "metadata": {
        "id": "bI8BLvBqwPjb"
      }
    },
    {
      "cell_type": "code",
      "source": [
        "from sklearn.preprocessing import MinMaxScaler\n",
        "from sklearn.preprocessing import StandardScaler"
      ],
      "metadata": {
        "id": "_QIxIW-PwSnj"
      },
      "execution_count": null,
      "outputs": []
    },
    {
      "cell_type": "code",
      "source": [
        "train_df.describe()"
      ],
      "metadata": {
        "colab": {
          "base_uri": "https://localhost:8080/",
          "height": 361
        },
        "id": "Es26Qru6wpgy",
        "outputId": "27791396-b067-4dbd-8fcd-e277e8a0d0dd"
      },
      "execution_count": null,
      "outputs": [
        {
          "output_type": "execute_result",
          "data": {
            "text/plain": [
              "        Property Id  DOF Gross Floor Area   Year Built  \\\n",
              "count  8.222000e+03          8.144000e+03  8222.000000   \n",
              "mean   3.638626e+06          1.747517e+05  1948.820603   \n",
              "std    1.050510e+06          3.327961e+05    30.619752   \n",
              "min    8.139000e+03          5.002800e+04  1600.000000   \n",
              "25%    2.742226e+06          6.551500e+04  1927.000000   \n",
              "50%    3.180044e+06          9.408750e+04  1941.000000   \n",
              "75%    4.408808e+06          1.602278e+05  1966.000000   \n",
              "max    5.991312e+06          8.942176e+06  2016.000000   \n",
              "\n",
              "       Number of Buildings - Self-reported    Occupancy  \\\n",
              "count                          8222.000000  8222.000000   \n",
              "mean                              1.281440    98.777670   \n",
              "std                               4.039712     7.433078   \n",
              "min                               0.000000     0.000000   \n",
              "25%                               1.000000   100.000000   \n",
              "50%                               1.000000   100.000000   \n",
              "75%                               1.000000   100.000000   \n",
              "max                             155.000000   100.000000   \n",
              "\n",
              "       Property GFA - Self-Reported (ft²)     Latitude    Longitude  \\\n",
              "count                        8.222000e+03  6654.000000  6654.000000   \n",
              "mean                         1.683856e+05    40.754344   -73.956992   \n",
              "std                          2.890449e+05     0.079997     0.046651   \n",
              "min                          0.000000e+00    40.516725   -74.229887   \n",
              "25%                          6.717000e+04    40.707614   -73.984520   \n",
              "50%                          9.499500e+04    40.759319   -73.962881   \n",
              "75%                          1.591320e+05    40.815359   -73.933428   \n",
              "max                          8.942176e+06    40.912869   -73.715543   \n",
              "\n",
              "       Community Board  Council District   Census Tract  \n",
              "count      6654.000000       6654.000000    6654.000000  \n",
              "mean          7.154193         15.704989    5146.501202  \n",
              "std           3.953582         15.669928   13979.885365  \n",
              "min           1.000000          1.000000       1.000000  \n",
              "25%           5.000000          4.000000     100.000000  \n",
              "50%           7.000000          9.000000     199.000000  \n",
              "75%           9.000000         33.000000     538.000000  \n",
              "max          56.000000         51.000000  155101.000000  "
            ],
            "text/html": [
              "\n",
              "  <div id=\"df-640664af-b3a4-4531-a70f-cace3f2dc15c\">\n",
              "    <div class=\"colab-df-container\">\n",
              "      <div>\n",
              "<style scoped>\n",
              "    .dataframe tbody tr th:only-of-type {\n",
              "        vertical-align: middle;\n",
              "    }\n",
              "\n",
              "    .dataframe tbody tr th {\n",
              "        vertical-align: top;\n",
              "    }\n",
              "\n",
              "    .dataframe thead th {\n",
              "        text-align: right;\n",
              "    }\n",
              "</style>\n",
              "<table border=\"1\" class=\"dataframe\">\n",
              "  <thead>\n",
              "    <tr style=\"text-align: right;\">\n",
              "      <th></th>\n",
              "      <th>Property Id</th>\n",
              "      <th>DOF Gross Floor Area</th>\n",
              "      <th>Year Built</th>\n",
              "      <th>Number of Buildings - Self-reported</th>\n",
              "      <th>Occupancy</th>\n",
              "      <th>Property GFA - Self-Reported (ft²)</th>\n",
              "      <th>Latitude</th>\n",
              "      <th>Longitude</th>\n",
              "      <th>Community Board</th>\n",
              "      <th>Council District</th>\n",
              "      <th>Census Tract</th>\n",
              "    </tr>\n",
              "  </thead>\n",
              "  <tbody>\n",
              "    <tr>\n",
              "      <th>count</th>\n",
              "      <td>8.222000e+03</td>\n",
              "      <td>8.144000e+03</td>\n",
              "      <td>8222.000000</td>\n",
              "      <td>8222.000000</td>\n",
              "      <td>8222.000000</td>\n",
              "      <td>8.222000e+03</td>\n",
              "      <td>6654.000000</td>\n",
              "      <td>6654.000000</td>\n",
              "      <td>6654.000000</td>\n",
              "      <td>6654.000000</td>\n",
              "      <td>6654.000000</td>\n",
              "    </tr>\n",
              "    <tr>\n",
              "      <th>mean</th>\n",
              "      <td>3.638626e+06</td>\n",
              "      <td>1.747517e+05</td>\n",
              "      <td>1948.820603</td>\n",
              "      <td>1.281440</td>\n",
              "      <td>98.777670</td>\n",
              "      <td>1.683856e+05</td>\n",
              "      <td>40.754344</td>\n",
              "      <td>-73.956992</td>\n",
              "      <td>7.154193</td>\n",
              "      <td>15.704989</td>\n",
              "      <td>5146.501202</td>\n",
              "    </tr>\n",
              "    <tr>\n",
              "      <th>std</th>\n",
              "      <td>1.050510e+06</td>\n",
              "      <td>3.327961e+05</td>\n",
              "      <td>30.619752</td>\n",
              "      <td>4.039712</td>\n",
              "      <td>7.433078</td>\n",
              "      <td>2.890449e+05</td>\n",
              "      <td>0.079997</td>\n",
              "      <td>0.046651</td>\n",
              "      <td>3.953582</td>\n",
              "      <td>15.669928</td>\n",
              "      <td>13979.885365</td>\n",
              "    </tr>\n",
              "    <tr>\n",
              "      <th>min</th>\n",
              "      <td>8.139000e+03</td>\n",
              "      <td>5.002800e+04</td>\n",
              "      <td>1600.000000</td>\n",
              "      <td>0.000000</td>\n",
              "      <td>0.000000</td>\n",
              "      <td>0.000000e+00</td>\n",
              "      <td>40.516725</td>\n",
              "      <td>-74.229887</td>\n",
              "      <td>1.000000</td>\n",
              "      <td>1.000000</td>\n",
              "      <td>1.000000</td>\n",
              "    </tr>\n",
              "    <tr>\n",
              "      <th>25%</th>\n",
              "      <td>2.742226e+06</td>\n",
              "      <td>6.551500e+04</td>\n",
              "      <td>1927.000000</td>\n",
              "      <td>1.000000</td>\n",
              "      <td>100.000000</td>\n",
              "      <td>6.717000e+04</td>\n",
              "      <td>40.707614</td>\n",
              "      <td>-73.984520</td>\n",
              "      <td>5.000000</td>\n",
              "      <td>4.000000</td>\n",
              "      <td>100.000000</td>\n",
              "    </tr>\n",
              "    <tr>\n",
              "      <th>50%</th>\n",
              "      <td>3.180044e+06</td>\n",
              "      <td>9.408750e+04</td>\n",
              "      <td>1941.000000</td>\n",
              "      <td>1.000000</td>\n",
              "      <td>100.000000</td>\n",
              "      <td>9.499500e+04</td>\n",
              "      <td>40.759319</td>\n",
              "      <td>-73.962881</td>\n",
              "      <td>7.000000</td>\n",
              "      <td>9.000000</td>\n",
              "      <td>199.000000</td>\n",
              "    </tr>\n",
              "    <tr>\n",
              "      <th>75%</th>\n",
              "      <td>4.408808e+06</td>\n",
              "      <td>1.602278e+05</td>\n",
              "      <td>1966.000000</td>\n",
              "      <td>1.000000</td>\n",
              "      <td>100.000000</td>\n",
              "      <td>1.591320e+05</td>\n",
              "      <td>40.815359</td>\n",
              "      <td>-73.933428</td>\n",
              "      <td>9.000000</td>\n",
              "      <td>33.000000</td>\n",
              "      <td>538.000000</td>\n",
              "    </tr>\n",
              "    <tr>\n",
              "      <th>max</th>\n",
              "      <td>5.991312e+06</td>\n",
              "      <td>8.942176e+06</td>\n",
              "      <td>2016.000000</td>\n",
              "      <td>155.000000</td>\n",
              "      <td>100.000000</td>\n",
              "      <td>8.942176e+06</td>\n",
              "      <td>40.912869</td>\n",
              "      <td>-73.715543</td>\n",
              "      <td>56.000000</td>\n",
              "      <td>51.000000</td>\n",
              "      <td>155101.000000</td>\n",
              "    </tr>\n",
              "  </tbody>\n",
              "</table>\n",
              "</div>\n",
              "      <button class=\"colab-df-convert\" onclick=\"convertToInteractive('df-640664af-b3a4-4531-a70f-cace3f2dc15c')\"\n",
              "              title=\"Convert this dataframe to an interactive table.\"\n",
              "              style=\"display:none;\">\n",
              "        \n",
              "  <svg xmlns=\"http://www.w3.org/2000/svg\" height=\"24px\"viewBox=\"0 0 24 24\"\n",
              "       width=\"24px\">\n",
              "    <path d=\"M0 0h24v24H0V0z\" fill=\"none\"/>\n",
              "    <path d=\"M18.56 5.44l.94 2.06.94-2.06 2.06-.94-2.06-.94-.94-2.06-.94 2.06-2.06.94zm-11 1L8.5 8.5l.94-2.06 2.06-.94-2.06-.94L8.5 2.5l-.94 2.06-2.06.94zm10 10l.94 2.06.94-2.06 2.06-.94-2.06-.94-.94-2.06-.94 2.06-2.06.94z\"/><path d=\"M17.41 7.96l-1.37-1.37c-.4-.4-.92-.59-1.43-.59-.52 0-1.04.2-1.43.59L10.3 9.45l-7.72 7.72c-.78.78-.78 2.05 0 2.83L4 21.41c.39.39.9.59 1.41.59.51 0 1.02-.2 1.41-.59l7.78-7.78 2.81-2.81c.8-.78.8-2.07 0-2.86zM5.41 20L4 18.59l7.72-7.72 1.47 1.35L5.41 20z\"/>\n",
              "  </svg>\n",
              "      </button>\n",
              "      \n",
              "  <style>\n",
              "    .colab-df-container {\n",
              "      display:flex;\n",
              "      flex-wrap:wrap;\n",
              "      gap: 12px;\n",
              "    }\n",
              "\n",
              "    .colab-df-convert {\n",
              "      background-color: #E8F0FE;\n",
              "      border: none;\n",
              "      border-radius: 50%;\n",
              "      cursor: pointer;\n",
              "      display: none;\n",
              "      fill: #1967D2;\n",
              "      height: 32px;\n",
              "      padding: 0 0 0 0;\n",
              "      width: 32px;\n",
              "    }\n",
              "\n",
              "    .colab-df-convert:hover {\n",
              "      background-color: #E2EBFA;\n",
              "      box-shadow: 0px 1px 2px rgba(60, 64, 67, 0.3), 0px 1px 3px 1px rgba(60, 64, 67, 0.15);\n",
              "      fill: #174EA6;\n",
              "    }\n",
              "\n",
              "    [theme=dark] .colab-df-convert {\n",
              "      background-color: #3B4455;\n",
              "      fill: #D2E3FC;\n",
              "    }\n",
              "\n",
              "    [theme=dark] .colab-df-convert:hover {\n",
              "      background-color: #434B5C;\n",
              "      box-shadow: 0px 1px 3px 1px rgba(0, 0, 0, 0.15);\n",
              "      filter: drop-shadow(0px 1px 2px rgba(0, 0, 0, 0.3));\n",
              "      fill: #FFFFFF;\n",
              "    }\n",
              "  </style>\n",
              "\n",
              "      <script>\n",
              "        const buttonEl =\n",
              "          document.querySelector('#df-640664af-b3a4-4531-a70f-cace3f2dc15c button.colab-df-convert');\n",
              "        buttonEl.style.display =\n",
              "          google.colab.kernel.accessAllowed ? 'block' : 'none';\n",
              "\n",
              "        async function convertToInteractive(key) {\n",
              "          const element = document.querySelector('#df-640664af-b3a4-4531-a70f-cace3f2dc15c');\n",
              "          const dataTable =\n",
              "            await google.colab.kernel.invokeFunction('convertToInteractive',\n",
              "                                                     [key], {});\n",
              "          if (!dataTable) return;\n",
              "\n",
              "          const docLinkHtml = 'Like what you see? Visit the ' +\n",
              "            '<a target=\"_blank\" href=https://colab.research.google.com/notebooks/data_table.ipynb>data table notebook</a>'\n",
              "            + ' to learn more about interactive tables.';\n",
              "          element.innerHTML = '';\n",
              "          dataTable['output_type'] = 'display_data';\n",
              "          await google.colab.output.renderOutput(dataTable, element);\n",
              "          const docLink = document.createElement('div');\n",
              "          docLink.innerHTML = docLinkHtml;\n",
              "          element.appendChild(docLink);\n",
              "        }\n",
              "      </script>\n",
              "    </div>\n",
              "  </div>\n",
              "  "
            ]
          },
          "metadata": {},
          "execution_count": 27
        }
      ]
    },
    {
      "cell_type": "code",
      "source": [
        "minMax_scaler = MinMaxScaler()\n",
        "\n",
        "pipe = make_pipeline(minMax_scaler)\n",
        "\n",
        "normal_data = pipe.fit_transform(train_df[train_df.columns])\n",
        "df = pd.DataFrame(data = normal_data, columns = train_df.columns)\n",
        "\n",
        "df.describe()"
      ],
      "metadata": {
        "colab": {
          "base_uri": "https://localhost:8080/",
          "height": 381
        },
        "id": "EIsXnkMJxLcB",
        "outputId": "e9ee0cfd-d3b3-4202-80ed-aa15ed54a668"
      },
      "execution_count": null,
      "outputs": [
        {
          "output_type": "error",
          "ename": "ValueError",
          "evalue": "ignored",
          "traceback": [
            "\u001b[0;31m---------------------------------------------------------------------------\u001b[0m",
            "\u001b[0;31mValueError\u001b[0m                                Traceback (most recent call last)",
            "\u001b[0;32m<ipython-input-28-e4b9bebdde72>\u001b[0m in \u001b[0;36m<cell line: 5>\u001b[0;34m()\u001b[0m\n\u001b[1;32m      3\u001b[0m \u001b[0mpipe\u001b[0m \u001b[0;34m=\u001b[0m \u001b[0mmake_pipeline\u001b[0m\u001b[0;34m(\u001b[0m\u001b[0mminMax_scaler\u001b[0m\u001b[0;34m)\u001b[0m\u001b[0;34m\u001b[0m\u001b[0;34m\u001b[0m\u001b[0m\n\u001b[1;32m      4\u001b[0m \u001b[0;34m\u001b[0m\u001b[0m\n\u001b[0;32m----> 5\u001b[0;31m \u001b[0mnormal_data\u001b[0m \u001b[0;34m=\u001b[0m \u001b[0mpipe\u001b[0m\u001b[0;34m.\u001b[0m\u001b[0mfit_transform\u001b[0m\u001b[0;34m(\u001b[0m\u001b[0mtrain_df\u001b[0m\u001b[0;34m[\u001b[0m\u001b[0mtrain_df\u001b[0m\u001b[0;34m.\u001b[0m\u001b[0mcolumns\u001b[0m\u001b[0;34m]\u001b[0m\u001b[0;34m)\u001b[0m\u001b[0;34m\u001b[0m\u001b[0;34m\u001b[0m\u001b[0m\n\u001b[0m\u001b[1;32m      6\u001b[0m \u001b[0mdf\u001b[0m \u001b[0;34m=\u001b[0m \u001b[0mpd\u001b[0m\u001b[0;34m.\u001b[0m\u001b[0mDataFrame\u001b[0m\u001b[0;34m(\u001b[0m\u001b[0mdata\u001b[0m \u001b[0;34m=\u001b[0m \u001b[0mnormal_data\u001b[0m\u001b[0;34m,\u001b[0m \u001b[0mcolumns\u001b[0m \u001b[0;34m=\u001b[0m \u001b[0mtrain_df\u001b[0m\u001b[0;34m.\u001b[0m\u001b[0mcolumns\u001b[0m\u001b[0;34m)\u001b[0m\u001b[0;34m\u001b[0m\u001b[0;34m\u001b[0m\u001b[0m\n\u001b[1;32m      7\u001b[0m \u001b[0;34m\u001b[0m\u001b[0m\n",
            "\u001b[0;32m/usr/local/lib/python3.10/dist-packages/sklearn/pipeline.py\u001b[0m in \u001b[0;36mfit_transform\u001b[0;34m(self, X, y, **fit_params)\u001b[0m\n\u001b[1;32m    443\u001b[0m             \u001b[0mfit_params_last_step\u001b[0m \u001b[0;34m=\u001b[0m \u001b[0mfit_params_steps\u001b[0m\u001b[0;34m[\u001b[0m\u001b[0mself\u001b[0m\u001b[0;34m.\u001b[0m\u001b[0msteps\u001b[0m\u001b[0;34m[\u001b[0m\u001b[0;34m-\u001b[0m\u001b[0;36m1\u001b[0m\u001b[0;34m]\u001b[0m\u001b[0;34m[\u001b[0m\u001b[0;36m0\u001b[0m\u001b[0;34m]\u001b[0m\u001b[0;34m]\u001b[0m\u001b[0;34m\u001b[0m\u001b[0;34m\u001b[0m\u001b[0m\n\u001b[1;32m    444\u001b[0m             \u001b[0;32mif\u001b[0m \u001b[0mhasattr\u001b[0m\u001b[0;34m(\u001b[0m\u001b[0mlast_step\u001b[0m\u001b[0;34m,\u001b[0m \u001b[0;34m\"fit_transform\"\u001b[0m\u001b[0;34m)\u001b[0m\u001b[0;34m:\u001b[0m\u001b[0;34m\u001b[0m\u001b[0;34m\u001b[0m\u001b[0m\n\u001b[0;32m--> 445\u001b[0;31m                 \u001b[0;32mreturn\u001b[0m \u001b[0mlast_step\u001b[0m\u001b[0;34m.\u001b[0m\u001b[0mfit_transform\u001b[0m\u001b[0;34m(\u001b[0m\u001b[0mXt\u001b[0m\u001b[0;34m,\u001b[0m \u001b[0my\u001b[0m\u001b[0;34m,\u001b[0m \u001b[0;34m**\u001b[0m\u001b[0mfit_params_last_step\u001b[0m\u001b[0;34m)\u001b[0m\u001b[0;34m\u001b[0m\u001b[0;34m\u001b[0m\u001b[0m\n\u001b[0m\u001b[1;32m    446\u001b[0m             \u001b[0;32melse\u001b[0m\u001b[0;34m:\u001b[0m\u001b[0;34m\u001b[0m\u001b[0;34m\u001b[0m\u001b[0m\n\u001b[1;32m    447\u001b[0m                 \u001b[0;32mreturn\u001b[0m \u001b[0mlast_step\u001b[0m\u001b[0;34m.\u001b[0m\u001b[0mfit\u001b[0m\u001b[0;34m(\u001b[0m\u001b[0mXt\u001b[0m\u001b[0;34m,\u001b[0m \u001b[0my\u001b[0m\u001b[0;34m,\u001b[0m \u001b[0;34m**\u001b[0m\u001b[0mfit_params_last_step\u001b[0m\u001b[0;34m)\u001b[0m\u001b[0;34m.\u001b[0m\u001b[0mtransform\u001b[0m\u001b[0;34m(\u001b[0m\u001b[0mXt\u001b[0m\u001b[0;34m)\u001b[0m\u001b[0;34m\u001b[0m\u001b[0;34m\u001b[0m\u001b[0m\n",
            "\u001b[0;32m/usr/local/lib/python3.10/dist-packages/sklearn/utils/_set_output.py\u001b[0m in \u001b[0;36mwrapped\u001b[0;34m(self, X, *args, **kwargs)\u001b[0m\n\u001b[1;32m    138\u001b[0m     \u001b[0;34m@\u001b[0m\u001b[0mwraps\u001b[0m\u001b[0;34m(\u001b[0m\u001b[0mf\u001b[0m\u001b[0;34m)\u001b[0m\u001b[0;34m\u001b[0m\u001b[0;34m\u001b[0m\u001b[0m\n\u001b[1;32m    139\u001b[0m     \u001b[0;32mdef\u001b[0m \u001b[0mwrapped\u001b[0m\u001b[0;34m(\u001b[0m\u001b[0mself\u001b[0m\u001b[0;34m,\u001b[0m \u001b[0mX\u001b[0m\u001b[0;34m,\u001b[0m \u001b[0;34m*\u001b[0m\u001b[0margs\u001b[0m\u001b[0;34m,\u001b[0m \u001b[0;34m**\u001b[0m\u001b[0mkwargs\u001b[0m\u001b[0;34m)\u001b[0m\u001b[0;34m:\u001b[0m\u001b[0;34m\u001b[0m\u001b[0;34m\u001b[0m\u001b[0m\n\u001b[0;32m--> 140\u001b[0;31m         \u001b[0mdata_to_wrap\u001b[0m \u001b[0;34m=\u001b[0m \u001b[0mf\u001b[0m\u001b[0;34m(\u001b[0m\u001b[0mself\u001b[0m\u001b[0;34m,\u001b[0m \u001b[0mX\u001b[0m\u001b[0;34m,\u001b[0m \u001b[0;34m*\u001b[0m\u001b[0margs\u001b[0m\u001b[0;34m,\u001b[0m \u001b[0;34m**\u001b[0m\u001b[0mkwargs\u001b[0m\u001b[0;34m)\u001b[0m\u001b[0;34m\u001b[0m\u001b[0;34m\u001b[0m\u001b[0m\n\u001b[0m\u001b[1;32m    141\u001b[0m         \u001b[0;32mif\u001b[0m \u001b[0misinstance\u001b[0m\u001b[0;34m(\u001b[0m\u001b[0mdata_to_wrap\u001b[0m\u001b[0;34m,\u001b[0m \u001b[0mtuple\u001b[0m\u001b[0;34m)\u001b[0m\u001b[0;34m:\u001b[0m\u001b[0;34m\u001b[0m\u001b[0;34m\u001b[0m\u001b[0m\n\u001b[1;32m    142\u001b[0m             \u001b[0;31m# only wrap the first output for cross decomposition\u001b[0m\u001b[0;34m\u001b[0m\u001b[0;34m\u001b[0m\u001b[0m\n",
            "\u001b[0;32m/usr/local/lib/python3.10/dist-packages/sklearn/base.py\u001b[0m in \u001b[0;36mfit_transform\u001b[0;34m(self, X, y, **fit_params)\u001b[0m\n\u001b[1;32m    876\u001b[0m         \u001b[0;32mif\u001b[0m \u001b[0my\u001b[0m \u001b[0;32mis\u001b[0m \u001b[0;32mNone\u001b[0m\u001b[0;34m:\u001b[0m\u001b[0;34m\u001b[0m\u001b[0;34m\u001b[0m\u001b[0m\n\u001b[1;32m    877\u001b[0m             \u001b[0;31m# fit method of arity 1 (unsupervised transformation)\u001b[0m\u001b[0;34m\u001b[0m\u001b[0;34m\u001b[0m\u001b[0m\n\u001b[0;32m--> 878\u001b[0;31m             \u001b[0;32mreturn\u001b[0m \u001b[0mself\u001b[0m\u001b[0;34m.\u001b[0m\u001b[0mfit\u001b[0m\u001b[0;34m(\u001b[0m\u001b[0mX\u001b[0m\u001b[0;34m,\u001b[0m \u001b[0;34m**\u001b[0m\u001b[0mfit_params\u001b[0m\u001b[0;34m)\u001b[0m\u001b[0;34m.\u001b[0m\u001b[0mtransform\u001b[0m\u001b[0;34m(\u001b[0m\u001b[0mX\u001b[0m\u001b[0;34m)\u001b[0m\u001b[0;34m\u001b[0m\u001b[0;34m\u001b[0m\u001b[0m\n\u001b[0m\u001b[1;32m    879\u001b[0m         \u001b[0;32melse\u001b[0m\u001b[0;34m:\u001b[0m\u001b[0;34m\u001b[0m\u001b[0;34m\u001b[0m\u001b[0m\n\u001b[1;32m    880\u001b[0m             \u001b[0;31m# fit method of arity 2 (supervised transformation)\u001b[0m\u001b[0;34m\u001b[0m\u001b[0;34m\u001b[0m\u001b[0m\n",
            "\u001b[0;32m/usr/local/lib/python3.10/dist-packages/sklearn/preprocessing/_data.py\u001b[0m in \u001b[0;36mfit\u001b[0;34m(self, X, y)\u001b[0m\n\u001b[1;32m    425\u001b[0m         \u001b[0;31m# Reset internal state before fitting\u001b[0m\u001b[0;34m\u001b[0m\u001b[0;34m\u001b[0m\u001b[0m\n\u001b[1;32m    426\u001b[0m         \u001b[0mself\u001b[0m\u001b[0;34m.\u001b[0m\u001b[0m_reset\u001b[0m\u001b[0;34m(\u001b[0m\u001b[0;34m)\u001b[0m\u001b[0;34m\u001b[0m\u001b[0;34m\u001b[0m\u001b[0m\n\u001b[0;32m--> 427\u001b[0;31m         \u001b[0;32mreturn\u001b[0m \u001b[0mself\u001b[0m\u001b[0;34m.\u001b[0m\u001b[0mpartial_fit\u001b[0m\u001b[0;34m(\u001b[0m\u001b[0mX\u001b[0m\u001b[0;34m,\u001b[0m \u001b[0my\u001b[0m\u001b[0;34m)\u001b[0m\u001b[0;34m\u001b[0m\u001b[0;34m\u001b[0m\u001b[0m\n\u001b[0m\u001b[1;32m    428\u001b[0m \u001b[0;34m\u001b[0m\u001b[0m\n\u001b[1;32m    429\u001b[0m     \u001b[0;32mdef\u001b[0m \u001b[0mpartial_fit\u001b[0m\u001b[0;34m(\u001b[0m\u001b[0mself\u001b[0m\u001b[0;34m,\u001b[0m \u001b[0mX\u001b[0m\u001b[0;34m,\u001b[0m \u001b[0my\u001b[0m\u001b[0;34m=\u001b[0m\u001b[0;32mNone\u001b[0m\u001b[0;34m)\u001b[0m\u001b[0;34m:\u001b[0m\u001b[0;34m\u001b[0m\u001b[0;34m\u001b[0m\u001b[0m\n",
            "\u001b[0;32m/usr/local/lib/python3.10/dist-packages/sklearn/preprocessing/_data.py\u001b[0m in \u001b[0;36mpartial_fit\u001b[0;34m(self, X, y)\u001b[0m\n\u001b[1;32m    464\u001b[0m \u001b[0;34m\u001b[0m\u001b[0m\n\u001b[1;32m    465\u001b[0m         \u001b[0mfirst_pass\u001b[0m \u001b[0;34m=\u001b[0m \u001b[0;32mnot\u001b[0m \u001b[0mhasattr\u001b[0m\u001b[0;34m(\u001b[0m\u001b[0mself\u001b[0m\u001b[0;34m,\u001b[0m \u001b[0;34m\"n_samples_seen_\"\u001b[0m\u001b[0;34m)\u001b[0m\u001b[0;34m\u001b[0m\u001b[0;34m\u001b[0m\u001b[0m\n\u001b[0;32m--> 466\u001b[0;31m         X = self._validate_data(\n\u001b[0m\u001b[1;32m    467\u001b[0m             \u001b[0mX\u001b[0m\u001b[0;34m,\u001b[0m\u001b[0;34m\u001b[0m\u001b[0;34m\u001b[0m\u001b[0m\n\u001b[1;32m    468\u001b[0m             \u001b[0mreset\u001b[0m\u001b[0;34m=\u001b[0m\u001b[0mfirst_pass\u001b[0m\u001b[0;34m,\u001b[0m\u001b[0;34m\u001b[0m\u001b[0;34m\u001b[0m\u001b[0m\n",
            "\u001b[0;32m/usr/local/lib/python3.10/dist-packages/sklearn/base.py\u001b[0m in \u001b[0;36m_validate_data\u001b[0;34m(self, X, y, reset, validate_separately, **check_params)\u001b[0m\n\u001b[1;32m    563\u001b[0m             \u001b[0;32mraise\u001b[0m \u001b[0mValueError\u001b[0m\u001b[0;34m(\u001b[0m\u001b[0;34m\"Validation should be done on X, y or both.\"\u001b[0m\u001b[0;34m)\u001b[0m\u001b[0;34m\u001b[0m\u001b[0;34m\u001b[0m\u001b[0m\n\u001b[1;32m    564\u001b[0m         \u001b[0;32melif\u001b[0m \u001b[0;32mnot\u001b[0m \u001b[0mno_val_X\u001b[0m \u001b[0;32mand\u001b[0m \u001b[0mno_val_y\u001b[0m\u001b[0;34m:\u001b[0m\u001b[0;34m\u001b[0m\u001b[0;34m\u001b[0m\u001b[0m\n\u001b[0;32m--> 565\u001b[0;31m             \u001b[0mX\u001b[0m \u001b[0;34m=\u001b[0m \u001b[0mcheck_array\u001b[0m\u001b[0;34m(\u001b[0m\u001b[0mX\u001b[0m\u001b[0;34m,\u001b[0m \u001b[0minput_name\u001b[0m\u001b[0;34m=\u001b[0m\u001b[0;34m\"X\"\u001b[0m\u001b[0;34m,\u001b[0m \u001b[0;34m**\u001b[0m\u001b[0mcheck_params\u001b[0m\u001b[0;34m)\u001b[0m\u001b[0;34m\u001b[0m\u001b[0;34m\u001b[0m\u001b[0m\n\u001b[0m\u001b[1;32m    566\u001b[0m             \u001b[0mout\u001b[0m \u001b[0;34m=\u001b[0m \u001b[0mX\u001b[0m\u001b[0;34m\u001b[0m\u001b[0;34m\u001b[0m\u001b[0m\n\u001b[1;32m    567\u001b[0m         \u001b[0;32melif\u001b[0m \u001b[0mno_val_X\u001b[0m \u001b[0;32mand\u001b[0m \u001b[0;32mnot\u001b[0m \u001b[0mno_val_y\u001b[0m\u001b[0;34m:\u001b[0m\u001b[0;34m\u001b[0m\u001b[0;34m\u001b[0m\u001b[0m\n",
            "\u001b[0;32m/usr/local/lib/python3.10/dist-packages/sklearn/utils/validation.py\u001b[0m in \u001b[0;36mcheck_array\u001b[0;34m(array, accept_sparse, accept_large_sparse, dtype, order, copy, force_all_finite, ensure_2d, allow_nd, ensure_min_samples, ensure_min_features, estimator, input_name)\u001b[0m\n\u001b[1;32m    877\u001b[0m                     \u001b[0marray\u001b[0m \u001b[0;34m=\u001b[0m \u001b[0mxp\u001b[0m\u001b[0;34m.\u001b[0m\u001b[0mastype\u001b[0m\u001b[0;34m(\u001b[0m\u001b[0marray\u001b[0m\u001b[0;34m,\u001b[0m \u001b[0mdtype\u001b[0m\u001b[0;34m,\u001b[0m \u001b[0mcopy\u001b[0m\u001b[0;34m=\u001b[0m\u001b[0;32mFalse\u001b[0m\u001b[0;34m)\u001b[0m\u001b[0;34m\u001b[0m\u001b[0;34m\u001b[0m\u001b[0m\n\u001b[1;32m    878\u001b[0m                 \u001b[0;32melse\u001b[0m\u001b[0;34m:\u001b[0m\u001b[0;34m\u001b[0m\u001b[0;34m\u001b[0m\u001b[0m\n\u001b[0;32m--> 879\u001b[0;31m                     \u001b[0marray\u001b[0m \u001b[0;34m=\u001b[0m \u001b[0m_asarray_with_order\u001b[0m\u001b[0;34m(\u001b[0m\u001b[0marray\u001b[0m\u001b[0;34m,\u001b[0m \u001b[0morder\u001b[0m\u001b[0;34m=\u001b[0m\u001b[0morder\u001b[0m\u001b[0;34m,\u001b[0m \u001b[0mdtype\u001b[0m\u001b[0;34m=\u001b[0m\u001b[0mdtype\u001b[0m\u001b[0;34m,\u001b[0m \u001b[0mxp\u001b[0m\u001b[0;34m=\u001b[0m\u001b[0mxp\u001b[0m\u001b[0;34m)\u001b[0m\u001b[0;34m\u001b[0m\u001b[0;34m\u001b[0m\u001b[0m\n\u001b[0m\u001b[1;32m    880\u001b[0m             \u001b[0;32mexcept\u001b[0m \u001b[0mComplexWarning\u001b[0m \u001b[0;32mas\u001b[0m \u001b[0mcomplex_warning\u001b[0m\u001b[0;34m:\u001b[0m\u001b[0;34m\u001b[0m\u001b[0;34m\u001b[0m\u001b[0m\n\u001b[1;32m    881\u001b[0m                 raise ValueError(\n",
            "\u001b[0;32m/usr/local/lib/python3.10/dist-packages/sklearn/utils/_array_api.py\u001b[0m in \u001b[0;36m_asarray_with_order\u001b[0;34m(array, dtype, order, copy, xp)\u001b[0m\n\u001b[1;32m    183\u001b[0m     \u001b[0;32mif\u001b[0m \u001b[0mxp\u001b[0m\u001b[0;34m.\u001b[0m\u001b[0m__name__\u001b[0m \u001b[0;32min\u001b[0m \u001b[0;34m{\u001b[0m\u001b[0;34m\"numpy\"\u001b[0m\u001b[0;34m,\u001b[0m \u001b[0;34m\"numpy.array_api\"\u001b[0m\u001b[0;34m}\u001b[0m\u001b[0;34m:\u001b[0m\u001b[0;34m\u001b[0m\u001b[0;34m\u001b[0m\u001b[0m\n\u001b[1;32m    184\u001b[0m         \u001b[0;31m# Use NumPy API to support order\u001b[0m\u001b[0;34m\u001b[0m\u001b[0;34m\u001b[0m\u001b[0m\n\u001b[0;32m--> 185\u001b[0;31m         \u001b[0marray\u001b[0m \u001b[0;34m=\u001b[0m \u001b[0mnumpy\u001b[0m\u001b[0;34m.\u001b[0m\u001b[0masarray\u001b[0m\u001b[0;34m(\u001b[0m\u001b[0marray\u001b[0m\u001b[0;34m,\u001b[0m \u001b[0morder\u001b[0m\u001b[0;34m=\u001b[0m\u001b[0morder\u001b[0m\u001b[0;34m,\u001b[0m \u001b[0mdtype\u001b[0m\u001b[0;34m=\u001b[0m\u001b[0mdtype\u001b[0m\u001b[0;34m)\u001b[0m\u001b[0;34m\u001b[0m\u001b[0;34m\u001b[0m\u001b[0m\n\u001b[0m\u001b[1;32m    186\u001b[0m         \u001b[0;32mreturn\u001b[0m \u001b[0mxp\u001b[0m\u001b[0;34m.\u001b[0m\u001b[0masarray\u001b[0m\u001b[0;34m(\u001b[0m\u001b[0marray\u001b[0m\u001b[0;34m,\u001b[0m \u001b[0mcopy\u001b[0m\u001b[0;34m=\u001b[0m\u001b[0mcopy\u001b[0m\u001b[0;34m)\u001b[0m\u001b[0;34m\u001b[0m\u001b[0;34m\u001b[0m\u001b[0m\n\u001b[1;32m    187\u001b[0m     \u001b[0;32melse\u001b[0m\u001b[0;34m:\u001b[0m\u001b[0;34m\u001b[0m\u001b[0;34m\u001b[0m\u001b[0m\n",
            "\u001b[0;32m/usr/local/lib/python3.10/dist-packages/pandas/core/generic.py\u001b[0m in \u001b[0;36m__array__\u001b[0;34m(self, dtype)\u001b[0m\n\u001b[1;32m   2068\u001b[0m \u001b[0;34m\u001b[0m\u001b[0m\n\u001b[1;32m   2069\u001b[0m     \u001b[0;32mdef\u001b[0m \u001b[0m__array__\u001b[0m\u001b[0;34m(\u001b[0m\u001b[0mself\u001b[0m\u001b[0;34m,\u001b[0m \u001b[0mdtype\u001b[0m\u001b[0;34m:\u001b[0m \u001b[0mnpt\u001b[0m\u001b[0;34m.\u001b[0m\u001b[0mDTypeLike\u001b[0m \u001b[0;34m|\u001b[0m \u001b[0;32mNone\u001b[0m \u001b[0;34m=\u001b[0m \u001b[0;32mNone\u001b[0m\u001b[0;34m)\u001b[0m \u001b[0;34m->\u001b[0m \u001b[0mnp\u001b[0m\u001b[0;34m.\u001b[0m\u001b[0mndarray\u001b[0m\u001b[0;34m:\u001b[0m\u001b[0;34m\u001b[0m\u001b[0;34m\u001b[0m\u001b[0m\n\u001b[0;32m-> 2070\u001b[0;31m         \u001b[0;32mreturn\u001b[0m \u001b[0mnp\u001b[0m\u001b[0;34m.\u001b[0m\u001b[0masarray\u001b[0m\u001b[0;34m(\u001b[0m\u001b[0mself\u001b[0m\u001b[0;34m.\u001b[0m\u001b[0m_values\u001b[0m\u001b[0;34m,\u001b[0m \u001b[0mdtype\u001b[0m\u001b[0;34m=\u001b[0m\u001b[0mdtype\u001b[0m\u001b[0;34m)\u001b[0m\u001b[0;34m\u001b[0m\u001b[0;34m\u001b[0m\u001b[0m\n\u001b[0m\u001b[1;32m   2071\u001b[0m \u001b[0;34m\u001b[0m\u001b[0m\n\u001b[1;32m   2072\u001b[0m     def __array_wrap__(\n",
            "\u001b[0;31mValueError\u001b[0m: could not convert string to float: 'ADI: 615 West 172nd Street'"
          ]
        }
      ]
    },
    {
      "cell_type": "code",
      "source": [
        "std_scaler = StandardScaler()\n",
        "\n",
        "pipe = make_pipeline(std_scaler)\n",
        "\n",
        "normal_data = pipe.fit_transform(train_df[train_df.columns])\n",
        "df = pd.DataFrame(data = normal_data, columns = train_df.columns)\n",
        "\n",
        "df.describe()"
      ],
      "metadata": {
        "id": "INsZ2n39ye7u"
      },
      "execution_count": null,
      "outputs": []
    },
    {
      "cell_type": "markdown",
      "source": [
        "### **--- Задание №3 ---**"
      ],
      "metadata": {
        "id": "SEv37R-c00bi"
      }
    },
    {
      "cell_type": "code",
      "source": [
        "fire_df = pd.read_excel(\"/content/drive/MyDrive/obd_data/05-7_task-files-2/10_fire_dataset_bin.xlsx\", index_col='Unnamed: 0')"
      ],
      "metadata": {
        "id": "XGNmcfDn1ZCe"
      },
      "execution_count": null,
      "outputs": []
    },
    {
      "cell_type": "code",
      "source": [
        "fire_df.describe()"
      ],
      "metadata": {
        "id": "WGq5Exxf1nXh"
      },
      "execution_count": null,
      "outputs": []
    },
    {
      "cell_type": "code",
      "source": [
        "fire_df.info()"
      ],
      "metadata": {
        "id": "1ZZWDCgf1yUw"
      },
      "execution_count": null,
      "outputs": []
    },
    {
      "cell_type": "code",
      "source": [
        "nulls = fire_df.columns[fire_df.isnull().any()]\n",
        "\n",
        "print(\"Null колонки:\")\n",
        "print(nulls)\n",
        "\n",
        "print(\"\\nNull значения:\")\n",
        "print(fire_df[nulls].isnull().sum())\n"
      ],
      "metadata": {
        "id": "UqO9paWg3Qf4"
      },
      "execution_count": null,
      "outputs": []
    },
    {
      "cell_type": "code",
      "source": [
        "fire_df = fire_df.select_dtypes(['number'])"
      ],
      "metadata": {
        "id": "Sx3Fz5B96qN-"
      },
      "execution_count": null,
      "outputs": []
    },
    {
      "cell_type": "code",
      "source": [
        "fire_df.info()"
      ],
      "metadata": {
        "id": "vHJMiAyd60dy"
      },
      "execution_count": null,
      "outputs": []
    },
    {
      "cell_type": "code",
      "source": [
        "x_fire_df = fire_df.drop('area', axis = 1)\n",
        "y_fire_df = fire_df['area']\n",
        "\n",
        "x_train, x_test, y_train, y_test = train_test_split(x_fire_df, y_fire_df, test_size = 0.25, random_state = 42)"
      ],
      "metadata": {
        "id": "zU4vKMIX7Ahw"
      },
      "execution_count": null,
      "outputs": []
    },
    {
      "cell_type": "code",
      "source": [
        "from collections import Counter"
      ],
      "metadata": {
        "id": "PAgDHL59_Csd"
      },
      "execution_count": null,
      "outputs": []
    },
    {
      "cell_type": "code",
      "source": [
        "from imblearn.under_sampling import NearMiss\n",
        "\n",
        "undersamp = NearMiss(version = 1)\n",
        "x_train_near, y_train_near = undersamp.fit_resample(x_train, y_train)\n",
        "\n",
        "print(Counter(y_train_near))"
      ],
      "metadata": {
        "id": "tUp1dD_b7fMG"
      },
      "execution_count": null,
      "outputs": []
    },
    {
      "cell_type": "code",
      "source": [
        "from imblearn.under_sampling import RandomUnderSampler\n",
        "\n",
        "randsamp = RandomUnderSampler(sampling_strategy = 'majority')\n",
        "x_train_rand, y_train_rand = randsamp.fit_resample(x_train, y_train)\n",
        "\n",
        "print(Counter(y_train_rand))"
      ],
      "metadata": {
        "id": "IphLIUqn-_TE"
      },
      "execution_count": null,
      "outputs": []
    },
    {
      "cell_type": "code",
      "source": [
        "from imblearn.over_sampling import RandomOverSampler\n",
        "\n",
        "oversamp = RandomOverSampler(sampling_strategy = 'minority')\n",
        "x_train_rand, y_train_rand = oversamp.fit_resample(x_train, y_train)\n",
        "\n",
        "print(Counter(y_train_rand))"
      ],
      "metadata": {
        "id": "9oYnwmtW_iKq"
      },
      "execution_count": null,
      "outputs": []
    },
    {
      "cell_type": "code",
      "source": [
        "from imblearn.over_sampling import SMOTE\n",
        "\n",
        "smote = SMOTE(sampling_strategy = 'minority')\n",
        "x_train_rand, y_train_rand = smote.fit_resample(x_train, y_train)\n",
        "\n",
        "print(Counter(y_train_rand))"
      ],
      "metadata": {
        "id": "O8i6p4LpArrr"
      },
      "execution_count": null,
      "outputs": []
    },
    {
      "cell_type": "markdown",
      "source": [
        "### **--- Задание №4 ---**"
      ],
      "metadata": {
        "id": "wVarE7RCBirt"
      }
    },
    {
      "cell_type": "code",
      "source": [
        "import seaborn as sns\n",
        "%matplotlib inline"
      ],
      "metadata": {
        "id": "sF00UOKnBpL0"
      },
      "execution_count": null,
      "outputs": []
    },
    {
      "cell_type": "code",
      "source": [
        "fire_df.head()"
      ],
      "metadata": {
        "id": "GHEVK2QGB-KR"
      },
      "execution_count": null,
      "outputs": []
    },
    {
      "cell_type": "code",
      "source": [
        "sns.lmplot(data = fire_df, x = 'Po', y = 'area', aspect = 3, height = 5)"
      ],
      "metadata": {
        "id": "OFsSp2ngCDd0"
      },
      "execution_count": null,
      "outputs": []
    },
    {
      "cell_type": "code",
      "source": [
        "import matplotlib.pyplot as plt\n",
        "\n",
        "plt.figure(figsize = (10, 5))\n",
        "sns.boxplot(fire_df.Po, orient = 'h')\n",
        "plt.show()"
      ],
      "metadata": {
        "id": "sC1w5OobC7wH"
      },
      "execution_count": null,
      "outputs": []
    },
    {
      "cell_type": "code",
      "source": [
        "area_bins = fire_df.area.quantile([0, 1])\n",
        "area_bins"
      ],
      "metadata": {
        "id": "E8eVjmmiDXmh"
      },
      "execution_count": null,
      "outputs": []
    },
    {
      "cell_type": "code",
      "source": [
        "plt.figure(figsize = (5, 3))\n",
        "sns.boxplot(data = fire_df, y = \"Po\", x = \"area\")\n",
        "plt.show()"
      ],
      "metadata": {
        "id": "X_zrgHS8EQ_b"
      },
      "execution_count": null,
      "outputs": []
    },
    {
      "cell_type": "markdown",
      "source": [
        "### **--- Задание №5 ---**"
      ],
      "metadata": {
        "id": "BW1uMCP4IcRm"
      }
    },
    {
      "cell_type": "code",
      "source": [
        "import requests\n",
        "from bs4 import BeautifulSoup "
      ],
      "metadata": {
        "id": "OkSjBMPDIilk"
      },
      "execution_count": null,
      "outputs": []
    },
    {
      "cell_type": "code",
      "source": [
        "urls = {\n",
        "    'https://career.habr.com/vacancies?page=1&type=all',\n",
        "    'https://career.habr.com/vacancies?page=2&type=all'\n",
        "}"
      ],
      "metadata": {
        "id": "-NF3xKnRDTGa"
      },
      "execution_count": null,
      "outputs": []
    },
    {
      "cell_type": "code",
      "source": [
        "compList = []\n",
        "vacList = []\n",
        "salaryList = []"
      ],
      "metadata": {
        "id": "ZFA5jAqGNQ2D"
      },
      "execution_count": null,
      "outputs": []
    },
    {
      "cell_type": "code",
      "source": [
        "def get_data():\n",
        "  for url in urls :\n",
        "    soup = BeautifulSoup(requests.get(url).text, 'html5lib')\n",
        "    \n",
        "    comps = soup.find_all('div', class_ = 'vacancy-card__company-title')\n",
        "    for comp in comps :\n",
        "      compList.append(comp.find('a', class_ = 'link-comp link-comp--appearance-dark').text)\n",
        "\n",
        "    vacs = soup.find_all('div', class_ = 'vacancy-card__title');\n",
        "    for vac in vacs : \n",
        "      vacList.append(vac.find('a', class_ = 'vacancy-card__title-link').text)\n",
        "\n",
        "    salaries = soup.find_all('div', class_ = 'vacancy-card__salary')\n",
        "    for salary in salaries :\n",
        "      salaryList.append(salary.find('div', class_ = 'basic-salary').text)\n",
        "\n",
        "  return compList, vacList, salaryList"
      ],
      "metadata": {
        "id": "3vWk500kD_Ux"
      },
      "execution_count": null,
      "outputs": []
    },
    {
      "cell_type": "code",
      "source": [
        "page_data = get_data()\n",
        "data_dict = {'Компания': compList, 'Вакансия': vacList, 'Зарплата': salaryList}\n",
        "\n",
        "page_df = pd.DataFrame.from_dict(data_dict, orient = 'index')\n",
        "page_df = page_df.transpose()\n",
        "page_df.head(10)"
      ],
      "metadata": {
        "id": "r9ZlpaNqHPjr"
      },
      "execution_count": null,
      "outputs": []
    },
    {
      "cell_type": "code",
      "source": [
        "page_df.to_csv('/content/habr_career.csv')"
      ],
      "metadata": {
        "id": "CRW0Ai6CTEQN"
      },
      "execution_count": null,
      "outputs": []
    },
    {
      "cell_type": "markdown",
      "source": [
        "### **--- Задание №6 ---**"
      ],
      "metadata": {
        "id": "ViobtBggIgMd"
      }
    },
    {
      "cell_type": "code",
      "source": [
        "auto_df = pd.read_csv('/content/drive/MyDrive/obd_data/05-7_task-files-3/11_automobiles/imports-85.data')"
      ],
      "metadata": {
        "id": "7UPjCj2bIiHM"
      },
      "execution_count": null,
      "outputs": []
    },
    {
      "cell_type": "code",
      "source": [
        "auto_df.info()"
      ],
      "metadata": {
        "id": "WRwrvWNZ41VQ"
      },
      "execution_count": null,
      "outputs": []
    },
    {
      "cell_type": "code",
      "source": [
        "auto_df.head()"
      ],
      "metadata": {
        "id": "YR80Rqgo5NDT"
      },
      "execution_count": null,
      "outputs": []
    },
    {
      "cell_type": "code",
      "source": [
        "names = [\"symboling\", \"normalized-losses\", \"make\", \"fuel-type\", \"aspiration\", \"num-of-doors\", \"body-style\", \"drive-wheels\", \"engine-location\",\n",
        "         \"wheel-base\", \"length\", \"wigth\", \"height\", \"curb-weight\", \"engine-type\", \"num-of-cylinders\", \"engine-size\", \"fuel-system\",\n",
        "         \"spfi\", \"bore\", \"compression-ratio\", \"horsepower\", \"peak-rpm\", \"city-mpg\", \"highway-mpg\", \"price\"]\n",
        "\n",
        "auto_df.columns = names;"
      ],
      "metadata": {
        "id": "FthayIx67Kxz"
      },
      "execution_count": null,
      "outputs": []
    },
    {
      "cell_type": "code",
      "source": [
        "pd.set_option('display.max_columns', None)\n",
        "auto_df.head()"
      ],
      "metadata": {
        "id": "KrIZITyZ8q5i"
      },
      "execution_count": null,
      "outputs": []
    },
    {
      "cell_type": "code",
      "source": [
        "nulls = auto_df.columns[auto_df.isnull().any()]\n",
        "\n",
        "print(\"Null колонки:\")\n",
        "print(nulls)\n",
        "\n",
        "print(\"\\nNull значения:\")\n",
        "print(auto_df[nulls].isnull().sum())"
      ],
      "metadata": {
        "id": "P_Vy-Uxi9Jfg"
      },
      "execution_count": null,
      "outputs": []
    },
    {
      "cell_type": "code",
      "source": [
        "num_cols = auto_df.select_dtypes(include=['int64', 'float64']).columns\n",
        "cat_cols = auto_df.select_dtypes(include=['object']).columns"
      ],
      "metadata": {
        "id": "i0oo6IoT_A3b"
      },
      "execution_count": null,
      "outputs": []
    },
    {
      "cell_type": "code",
      "source": [
        "from sklearn.preprocessing import LabelEncoder, OneHotEncoder\n",
        "\n",
        "labelEncoder = LabelEncoder()\n",
        "hotEncoder = OneHotEncoder()\n",
        "\n",
        "label_df = auto_df.copy()\n",
        "hot_df = auto_df.copy()\n",
        "\n",
        "for col in cat_cols :\n",
        "  label_df[col] = labelEncoder.fit_transform(auto_df[col])\n",
        "\n",
        "  temp_df = pd.DataFrame(hotEncoder.fit_transform(hot_df[[col]]).toarray())\n",
        "  hot_df = pd.concat([hot_df, temp_df], axis = 1)"
      ],
      "metadata": {
        "id": "Ni54MGVp9UsJ"
      },
      "execution_count": null,
      "outputs": []
    },
    {
      "cell_type": "code",
      "source": [
        "label_df.head(5)"
      ],
      "metadata": {
        "id": "khWQ_Od_AQHT"
      },
      "execution_count": null,
      "outputs": []
    },
    {
      "cell_type": "code",
      "source": [
        "hot_df.head(5)"
      ],
      "metadata": {
        "id": "7kJ9Jo-YBRYp"
      },
      "execution_count": null,
      "outputs": []
    }
  ]
}